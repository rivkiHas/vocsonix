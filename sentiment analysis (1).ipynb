{
 "cells": [
  {
   "cell_type": "code",
   "execution_count": null,
   "id": "9be0ea63-8e08-461a-baf9-fb6748075d5b",
   "metadata": {},
   "outputs": [],
   "source": [
    "import IPython.display as ipd\n",
    "import os\n",
    "import time\n",
    "import librosa\n",
    "import matplotlib.pyplot as plt\n",
    "from scipy.io import wavfile\n",
    "import numpy as np\n",
    "from sklearn.decomposition import PCA\n",
    "from sklearn.cluster import KMeans\n",
    "from IPython.display import Audio, display\n",
    "from concurrent.futures import ThreadPoolExecutor\n",
    "import random\n",
    "from collections import defaultdict\n",
    "import pandas as pd\n",
    "import soundfile as sf\n",
    "from sklearn.preprocessing import OneHotEncoder\n",
    "from sklearn.preprocessing import LabelEncoder\n",
    "from keras.models import Sequential\n"
   ]
  },
  {
   "cell_type": "code",
   "execution_count": null,
   "id": "7505ed9f",
   "metadata": {},
   "outputs": [],
   "source": [
    "from keras.layers import LSTM, Dense, Input\n",
    "from sklearn.preprocessing import MinMaxScaler\n",
    "from sklearn.ensemble import RandomForestClassifier\n",
    "from sklearn.model_selection import train_test_split\n",
    "from sklearn.metrics import confusion_matrix, accuracy_score, mean_squared_error, r2_score"
   ]
  },
  {
   "cell_type": "code",
   "execution_count": 2,
   "id": "4a8dc4d3-33a8-4cde-839f-bde6b06ddd9d",
   "metadata": {},
   "outputs": [],
   "source": [
    "main_directory='C:\\Users\\משתמש\\Documents\\תשפד\\פרקטיקום'"
   ]
  },
  {
   "cell_type": "code",
   "execution_count": null,
   "id": "efba415a-1ddd-46ae-ad4c-2a1a4437adfa",
   "metadata": {},
   "outputs": [],
   "source": [
    "#הכנסת כל הקבצים לרשימה\n",
    "file_lengths= []\n",
    "\n",
    "for root, dirs, files in os.walk(main_directory):\n",
    "    for file_name in files:\n",
    "        file_path = os.path.join(root, file_name)\n",
    "        if file_path.endswith(('.wav', '.mp3')):\n",
    "            try:\n",
    "                audio, sr = librosa.load(file_path)\n",
    "                duration = librosa.get_duration(y=audio, sr=sr)\n",
    "                file_lengths.append((file_name, duration))\n",
    "                print(f\"Loaded {file_path} with duration {duration} seconds\")\n",
    "            except Exception as e:\n",
    "                print(f\"Failed to load {file_path}: {e}\")"
   ]
  },
  {
   "cell_type": "code",
   "execution_count": null,
   "id": "6d47fbd3-39a7-4fd2-8c3e-75137122c7a9",
   "metadata": {},
   "outputs": [],
   "source": [
    "#התפלגות ההקלטות לפניי המחיקה \n",
    "filtered_audio_lengths = [length for _,length in file_lengths if length > 0]\n",
    "max_length = max(filtered_audio_lengths)\n",
    "bins = list(range(0, int(max_length) + 10, 10))\n",
    "plt.figure(figsize=(10, 6))\n",
    "plt.hist(filtered_audio_lengths, bins=bins, color='skyblue', edgecolor='black')\n",
    "plt.xlabel('Audio Length (seconds)')\n",
    "plt.ylabel('Count')\n",
    "plt.title('Distribution of Audio Lengths above 0 seconds')\n",
    "plt.show()"
   ]
  },
  {
   "cell_type": "code",
   "execution_count": 6,
   "id": "90a1c519-cb68-4fb8-9142-67569728bfc9",
   "metadata": {},
   "outputs": [],
   "source": [
    "#חלוקת ההקלטות לפי אורכם \n",
    "short_files = []  # רשימה לאחסון הקבצים שאורכם פחות מ-20 שניות\n",
    "long_files = []   # רשימה לאחסון הקבצים שאורכם גדול מ-40 דקות\n",
    "\n",
    "# Traverse the directory to load audio files and get their durations\n",
    "for root, dirs, files in os.walk(main_directory):\n",
    "    for file_name in files:\n",
    "        file_path = os.path.join(root, file_name)\n",
    "        if file_path.endswith(('.wav', '.mp3')):\n",
    "            try:\n",
    "                audio, sr = librosa.load(file_path)\n",
    "                duration = librosa.get_duration(y=audio, sr=sr)\n",
    "                if duration < 20:\n",
    "                    short_files.append((file_name, duration, file_path))\n",
    "                elif duration > 2400:  # 2400 seconds = 40 minutes\n",
    "                    long_files.append((file_name, duration, file_path))\n",
    "            except Exception as e:\n",
    "                print(f\"Failed to load {file_path}: {e}\")"
   ]
  },
  {
   "cell_type": "code",
   "execution_count": null,
   "id": "29bea39c-faa5-4af6-8ec0-b3a6bfe2de85",
   "metadata": {},
   "outputs": [],
   "source": [
    "# Print the list of short files\n",
    "print(\"\\nList of audio files less than 20 seconds:\")\n",
    "for file_name, duration, file_path in short_files:\n",
    "    print(f\"{file_name}: {duration:.2f} seconds\")\n",
    "\n",
    "# Print the list of long files with colored output\n",
    "print(\"\\nList of audio files more than 40 minutes:\")\n",
    "for file_name, duration, file_path in long_files:\n",
    "    print(f\"{file_name}: {duration:.2f} seconds\")\n",
    "\n",
    "# Play the first 10 audio files that are less than 20 seconds long\n",
    "print(\"\\nPlaying the first 10 audio files less than 20 seconds:\\n\")\n",
    "for file_name, duration, file_path in short_files[:10]:\n",
    "    print(f\"Playing: {file_path} ({duration:.2f} seconds)\")\n",
    "    display(ipd.Audio(file_path))"
   ]
  },
  {
   "cell_type": "code",
   "execution_count": null,
   "id": "9c679239-3f68-434c-a11e-2c2627b738d6",
   "metadata": {},
   "outputs": [],
   "source": [
    "#מחיקת ההקלטות הקצרות והארוכות\n",
    "for file_name, duration, file_path in short_files:\n",
    "    try:\n",
    "        os.remove(file_path)  # הסרת הקובץ מהמערכת\n",
    "        print(f\"Removed file: {file_name}, Duration: {duration} seconds, Path: {file_path}\")\n",
    "    except Exception as e:\n",
    "        print(f\"Failed to remove {file_path}: {e}\")\n",
    "for file_name, duration, file_path in long_files:\n",
    "    try:\n",
    "        os.remove(file_path)  # הסרת הקובץ מהמערכת\n",
    "        print(f\"Removed file: {file_name}, Duration: {duration} seconds, Path: {file_path}\")\n",
    "    except Exception as e:\n",
    "        print(f\"Failed to remove {file_path}: {e}\")      "
   ]
  },
  {
   "cell_type": "code",
   "execution_count": 9,
   "id": "33e0cbee-be67-41b1-a753-6adaf6bd88f7",
   "metadata": {},
   "outputs": [],
   "source": [
    "# בניית רשימת file_lengths מחדש אחרי המחיקה\n",
    "file_lengths = []\n",
    "for root, dirs, files in os.walk(main_directory):\n",
    "    for file_name in files:\n",
    "        file_path = os.path.join(root, file_name)\n",
    "        if file_path.endswith(('.wav', '.mp3')):\n",
    "            try:\n",
    "                audio, sr = librosa.load(file_path)\n",
    "                duration = librosa.get_duration(y=audio, sr=sr)\n",
    "                file_lengths.append((file_name, duration))\n",
    "            except Exception as e:\n",
    "                print(f\"Failed to load {file_path}: {e}\")"
   ]
  },
  {
   "cell_type": "code",
   "execution_count": null,
   "id": "496f5cf4-f547-4d64-92fd-5fdb2dc4a27e",
   "metadata": {
    "scrolled": true
   },
   "outputs": [],
   "source": [
    "#התפלגות ההקלטות אחרי המחיקה \n",
    "plt.clf()\n",
    "filtered_audio_lengths = [length for _,length in file_lengths if length > 0]\n",
    "max_length = max(filtered_audio_lengths)\n",
    "bins = list(range(0, int(max_length) + 10, 10))\n",
    "plt.figure(figsize=(10, 6))\n",
    "plt.hist(filtered_audio_lengths, bins=bins, color='skyblue', edgecolor='black')\n",
    "plt.xlabel('Audio Length (seconds)')\n",
    "plt.ylabel('Count')\n",
    "plt.title('Distribution of Audio Lengths above 0 seconds')\n",
    "plt.show()\n"
   ]
  },
  {
   "cell_type": "code",
   "execution_count": null,
   "id": "9e5802cc-ac25-41be-8641-3d4fbcc85914",
   "metadata": {},
   "outputs": [],
   "source": [
    "new_file_lengths= []\n",
    "\n",
    "for root, dirs, files in os.walk(main_directory):\n",
    "    for file_name in files:\n",
    "        file_path = os.path.join(root, file_name)\n",
    "        if file_path.endswith(('.wav', '.mp3')):\n",
    "            try:\n",
    "                audio, sr = librosa.load(file_path)\n",
    "                duration = librosa.get_duration(y=audio, sr=sr)\n",
    "                new_file_lengths.append((file_name, duration,file_path))\n",
    "                print(f\"Loaded {file_path} with duration {duration} seconds\")\n",
    "            except Exception as e:\n",
    "                print(f\"Failed to load {file_path}: {e}\")"
   ]
  },
  {
   "cell_type": "code",
   "execution_count": null,
   "id": "3671e0ef-ab12-4637-aca1-6a1ea3ab0914",
   "metadata": {},
   "outputs": [],
   "source": [
    "# Load the wav files\n",
    "file1 = r\"C:\\09\\12\\1694520577.7685.mp3\"\n",
    "# Extract MFCC features\n",
    "y1, sr1 = librosa.load(file1)\n",
    "mfcc1 = librosa.feature.mfcc(y=y1, sr=sr1)\n",
    "# Plot MFCC graph for file1\n",
    "plt.figure(figsize=(10, 4))\n",
    "librosa.display.specshow(mfcc1, x_axis='time')\n",
    "plt.colorbar()\n",
    "plt.title('MFCC for ' + file1)\n",
    "plt.tight_layout()\n",
    "plt.show()\n",
    "file2 = r\"C:\\09\\11\\1694443981.7528.mp3\"\n",
    "y2, sr2 = librosa.load(file2)\n",
    "mfcc2 = librosa.feature.mfcc(y=y2, sr=sr2)\n",
    "# Plot MFCC graph for file2\n",
    "plt.figure(figsize=(10, 4))\n",
    "librosa.display.specshow(mfcc2, x_axis='time')\n",
    "plt.colorbar()\n",
    "plt.title('MFCC for ' + file2)\n",
    "plt.tight_layout()\n",
    "plt.show()"
   ]
  },
  {
   "cell_type": "code",
   "execution_count": null,
   "id": "31b396d8-fcec-41d0-9a6c-21b3ea662747",
   "metadata": {},
   "outputs": [],
   "source": [
    "# partition to clusters"
   ]
  },
  {
   "cell_type": "code",
   "execution_count": null,
   "id": "fe58af95-78e8-412c-81c2-2ae8fd81c5ec",
   "metadata": {},
   "outputs": [],
   "source": [
    "# Directory containing audio files\n",
    "audio_dir = 'C:\\\\09'\n",
    "audio_files = []\n",
    "for root, dirs, files in os.walk(main_directory):\n",
    "    for file in files:\n",
    "        audio_files.append(os.path.join(root, file))\n",
    "print(len(audio_files))"
   ]
  },
  {
   "cell_type": "code",
   "execution_count": 14,
   "id": "494cf9ae-661b-417c-ac89-547afc0e408b",
   "metadata": {},
   "outputs": [],
   "source": [
    "# Feature extraction function\n",
    "def extract_mfcc(file_path):\n",
    "    y, sr = librosa.load(file_path, sr=16000)\n",
    "    mfcc = librosa.feature.mfcc(y=y, sr=sr, n_mfcc=13)\n",
    "    return np.mean(mfcc.T, axis=0)"
   ]
  },
  {
   "cell_type": "code",
   "execution_count": 15,
   "id": "3730b481-0f71-4eb3-ae99-7fb12582374a",
   "metadata": {},
   "outputs": [],
   "source": [
    "# Extract features\n",
    "features = [extract_mfcc(file) for file in audio_files]"
   ]
  },
  {
   "cell_type": "code",
   "execution_count": 16,
   "id": "3183ef5b-a2c0-4a67-8a94-91e1e86e1b8d",
   "metadata": {},
   "outputs": [],
   "source": [
    "features_np = np.array(features)"
   ]
  },
  {
   "cell_type": "code",
   "execution_count": 17,
   "id": "a68d9498-b7a1-4447-ba6c-f251afb53ef1",
   "metadata": {},
   "outputs": [],
   "source": [
    "# Dimensionality reduction\n",
    "pca = PCA(n_components=2)\n",
    "features_reduced = pca.fit_transform(features_np)"
   ]
  },
  {
   "cell_type": "code",
   "execution_count": 18,
   "id": "97ff303d-a094-49a9-8f6c-e60d92890bf6",
   "metadata": {},
   "outputs": [],
   "source": [
    "#  חלוקה ל-2\n",
    "n_clusters = 2\n",
    "kmeans = KMeans(n_clusters=n_clusters, random_state=42)\n",
    "labels = kmeans.fit_predict(features_reduced)"
   ]
  },
  {
   "cell_type": "code",
   "execution_count": null,
   "id": "ede0522d-b957-45bd-8bfe-d79a77b98083",
   "metadata": {},
   "outputs": [],
   "source": [
    "# Visualization\n",
    "plt.scatter(features_reduced[:, 0], features_reduced[:, 1], c=labels, cmap='viridis')\n",
    "plt.title('Clustering of Audio Files')\n",
    "plt.xlabel('PCA Component 1')\n",
    "plt.ylabel('PCA Component 2')\n",
    "plt.colorbar()\n",
    "plt.show()"
   ]
  },
  {
   "cell_type": "code",
   "execution_count": null,
   "id": "7ae18e52-433a-40c8-bc3b-962be383626c",
   "metadata": {},
   "outputs": [],
   "source": [
    "# הצגת הקבצים, הקבוצות ומשך השיחה\n",
    "group1=0\n",
    "for idx, file in enumerate(audio_files):\n",
    "    label = labels[idx]\n",
    "    duration = librosa.get_duration(filename=file)\n",
    "    print(f\"File: {file} - Cluster: {label} - Duration: {duration:.2f} seconds\")\n",
    "    if label==0 :\n",
    "       group1+=1\n",
    "print(group1)     "
   ]
  },
  {
   "cell_type": "code",
   "execution_count": 21,
   "id": "0f3e8a7c-6f2e-4e75-bdd8-3b84c599c8e6",
   "metadata": {},
   "outputs": [],
   "source": [
    "# חלוקת קבצי האודיו לפי התוויות שנוצרו\n",
    "clustered_audio_files = defaultdict(list)\n",
    "for file, label in zip(audio_files, labels):\n",
    "    clustered_audio_files[label].append(file)"
   ]
  },
  {
   "cell_type": "code",
   "execution_count": null,
   "id": "12c6a7d6-55fa-427c-8e9f-4f77043ceca4",
   "metadata": {},
   "outputs": [],
   "source": [
    "# בחירת 7 קבצים אקראיים מכל קבוצה\n",
    "num_samples_per_cluster = 7\n",
    "selected_files_per_cluster = {}\n",
    "for cluster_id, files in clustered_audio_files.items():\n",
    "    if len(files) <= num_samples_per_cluster:\n",
    "        selected_files = files\n",
    "    else:\n",
    "        selected_files = random.sample(files, num_samples_per_cluster)    \n",
    "    selected_files_per_cluster[cluster_id] = selected_files\n",
    "# הצגת הקבצים שנבחרו והשמעתם\n",
    "for cluster_id, selected_files in selected_files_per_cluster.items():\n",
    "    print(f\"\\nCluster {cluster_id }:\")\n",
    "    for file in selected_files:\n",
    "        display(Audio(filename=file))   "
   ]
  },
  {
   "cell_type": "code",
   "execution_count": 23,
   "id": "b4e4da3e-4fdc-4bc2-9ae0-31bdf33459a7",
   "metadata": {},
   "outputs": [],
   "source": [
    "# Clustering\n",
    "n_clusters = 4  # Changed number of clusters to 4\n",
    "kmeans = KMeans(n_clusters=n_clusters, random_state=42)\n",
    "labels = kmeans.fit_predict(features_reduced)"
   ]
  },
  {
   "cell_type": "code",
   "execution_count": null,
   "id": "bd201777-4e1e-4a1b-8329-bf7af219e761",
   "metadata": {},
   "outputs": [],
   "source": [
    "# Visualization\n",
    "plt.scatter(features_reduced[:, 0], features_reduced[:, 1], c=labels, cmap='viridis')\n",
    "plt.title('Clustering of Audio Files')\n",
    "plt.xlabel('PCA Component 1')\n",
    "plt.ylabel('PCA Component 2')\n",
    "plt.colorbar()\n",
    "plt.show()"
   ]
  },
  {
   "cell_type": "code",
   "execution_count": null,
   "id": "ba18b60a-d17c-429e-af2b-1f07ad4996f2",
   "metadata": {},
   "outputs": [],
   "source": [
    "# הצגת הקבצים, הקבוצות ומשך השיחה\n",
    "for idx, file in enumerate(audio_files):\n",
    "    label = labels[idx]\n",
    "    duration = librosa.get_duration(filename=file)\n",
    "    print(f\"File: {file} - Cluster: {label} - Duration: {duration:.2f} seconds\")"
   ]
  },
  {
   "cell_type": "code",
   "execution_count": 26,
   "id": "3528202b-d74a-444e-af1e-5bd59b10b57b",
   "metadata": {},
   "outputs": [],
   "source": [
    "# Clustering\n",
    "n_clusters = 3  # Changed number of clusters to 3\n",
    "kmeans = KMeans(n_clusters=n_clusters, random_state=42)\n",
    "labels = kmeans.fit_predict(features_reduced)"
   ]
  },
  {
   "cell_type": "code",
   "execution_count": null,
   "id": "ec12e880-70a2-4734-b3bd-7da9011fdd93",
   "metadata": {},
   "outputs": [],
   "source": [
    "# Visualization\n",
    "plt.scatter(features_reduced[:, 0], features_reduced[:, 1], c=labels, cmap='viridis')\n",
    "plt.title('Clustering of Audio Files')\n",
    "plt.xlabel('PCA Component 1')\n",
    "plt.ylabel('PCA Component 2')\n",
    "plt.colorbar()\n",
    "plt.show()"
   ]
  },
  {
   "cell_type": "code",
   "execution_count": null,
   "id": "8471cfae-8768-4c89-bc0e-b7ba3002ba06",
   "metadata": {},
   "outputs": [],
   "source": [
    "# הצגת הקבצים, הקבוצות ומשך השיחה\n",
    "group1=0\n",
    "for idx, file in enumerate(audio_files):\n",
    "    label = labels[idx]\n",
    "    duration = librosa.get_duration(filename=file)\n",
    "    print(f\"File: {file} - Cluster: {label} - Duration: {duration:.2f} seconds\")\n",
    "    if label==0 :\n",
    "       group1+=1\n",
    "print(group1)"
   ]
  },
  {
   "cell_type": "code",
   "execution_count": 29,
   "id": "ff1c69a5-df8f-4860-865b-9bda3b3989e2",
   "metadata": {},
   "outputs": [],
   "source": [
    "# חלוקת קבצי האודיו לפי התוויות שנוצרו\n",
    "clustered_audio_files = defaultdict(list)\n",
    "for file, label in zip(audio_files, labels):\n",
    "    clustered_audio_files[label].append(file)"
   ]
  },
  {
   "cell_type": "code",
   "execution_count": null,
   "id": "1744cdf9-eaf0-42ed-8229-305af220da8a",
   "metadata": {},
   "outputs": [],
   "source": [
    "# בחירת 7 קבצים אקראיים מכל קבוצה\n",
    "num_samples_per_cluster = 7\n",
    "selected_files_per_cluster = {}   \n",
    "for cluster_id, files in clustered_audio_files.items():\n",
    "    if len(files) <= num_samples_per_cluster:\n",
    "        selected_files = files\n",
    "    else:\n",
    "        selected_files = random.sample(files, num_samples_per_cluster)    \n",
    "    selected_files_per_cluster[cluster_id] = selected_files\n",
    "# הצגת הקבצים שנבחרו והשמעתם\n",
    "for cluster_id, selected_files in selected_files_per_cluster.items():\n",
    "    print(f\"\\nCluster {cluster_id }:\")\n",
    "    for file in selected_files:\n",
    "        display(Audio(filename=file))"
   ]
  },
  {
   "cell_type": "code",
   "execution_count": null,
   "id": "7554221a-5a17-46a7-b207-602decc23796",
   "metadata": {},
   "outputs": [],
   "source": [
    "# Selecting cluster 0"
   ]
  },
  {
   "cell_type": "code",
   "execution_count": 32,
   "id": "a6dd6e9b-ac4b-4a2b-ab36-c3e39345e315",
   "metadata": {},
   "outputs": [],
   "source": [
    "file_path = r'C:\\clasteriGroup3-0\\clustering_results3.txt'\n",
    "with open(file_path, 'w') as f:\n",
    "    for idx, file in enumerate(audio_files):\n",
    "        label = labels[idx]\n",
    "        f.write(f\"File: {file} - Cluster: {label}\\n\")  # כתיבת שורה לקובץ"
   ]
  },
  {
   "cell_type": "code",
   "execution_count": null,
   "id": "a08de352-75d6-4e54-832e-6114374b7588",
   "metadata": {},
   "outputs": [],
   "source": [
    "# Initialize an empty list to store file names\n",
    "cluster_0_files = []\n",
    "cnt = 0\n",
    "# Open and read the file\n",
    "with open(file_path, 'r') as file:\n",
    "    for line in file:\n",
    "        # Check if the line contains \"Cluster: 0\"\n",
    "        if 'Cluster: 0' in line:\n",
    "             # Extract the file name with full path\n",
    "            full_file_name = line.split(' - ')[0].replace('File: ', '').strip()\n",
    "            # Get only the file name without the path\n",
    "            file_name = os.path.basename(full_file_name)\n",
    "            cluster_0_files.append(file_name)\n",
    "            cnt += 1\n",
    "\n",
    "# Print the list of files in Cluster 0\n",
    "print(cluster_0_files)"
   ]
  },
  {
   "cell_type": "code",
   "execution_count": null,
   "id": "aa86a493-18c8-4957-a6e5-ab27da911316",
   "metadata": {},
   "outputs": [],
   "source": [
    "# TESS cleaning"
   ]
  },
  {
   "cell_type": "code",
   "execution_count": 34,
   "id": "5a01e413-f6b4-40a6-974c-735598f21799",
   "metadata": {},
   "outputs": [],
   "source": [
    "# על כל הקבצים\n",
    "def remove_silence(input_folder, output_folder, silence_threshold=30):\n",
    "    if not os.path.exists(output_folder):\n",
    "        os.makedirs(output_folder)\n",
    "\n",
    "    for filename in os.listdir(input_folder):\n",
    "        file_path = os.path.join(input_folder, filename)\n",
    "\n",
    "        if os.path.isdir(file_path):\n",
    "            new_output_folder = os.path.join(output_folder, filename)\n",
    "            remove_silence(file_path, new_output_folder, silence_threshold)\n",
    "        elif filename.endswith(('.wav', '.mp3')):\n",
    "            try:\n",
    "                # Read the file\n",
    "                y, sr = librosa.load(file_path, sr=None)\n",
    "\n",
    "                # Detect and remove silence\n",
    "                non_silent_intervals = librosa.effects.split(y, top_db=silence_threshold)\n",
    "                if len(non_silent_intervals) > 0:\n",
    "                    non_silent_audio = np.concatenate([y[start:end] for start, end in non_silent_intervals])\n",
    "                else:\n",
    "                    non_silent_audio = y  # No silence detected, keep original\n",
    "\n",
    "                # Save the file\n",
    "                output_path = os.path.join(output_folder, filename)\n",
    "                sf.write(output_path, non_silent_audio, sr)\n",
    "            except Exception as e:\n",
    "                print(f\"Error processing {filename}: {e}\")\n",
    "\n",
    "# Paths to source and destination folders\n",
    "input_folder = r'C:\\dataverse_files'\n",
    "output_folder = r'C:\\noSilene'\n",
    "\n",
    "# Call the function\n",
    "remove_silence(input_folder, output_folder)"
   ]
  },
  {
   "cell_type": "code",
   "execution_count": null,
   "id": "00980896-7c46-46a5-a05d-76e38dfde37b",
   "metadata": {},
   "outputs": [],
   "source": [
    "# extract features"
   ]
  },
  {
   "cell_type": "code",
   "execution_count": 35,
   "id": "b01cb77b-5227-4a83-a88a-faf7bf7ef5ec",
   "metadata": {},
   "outputs": [],
   "source": [
    "def extract_features(file_path):\n",
    "    y, sr = librosa.load(file_path, sr=22050)\n",
    "    \n",
    "    # Extract MFCC features\n",
    "    mfcc = librosa.feature.mfcc(y=y, sr=sr, n_mfcc=13)\n",
    "    mfcc_mean = np.mean(mfcc.T, axis=0)\n",
    "    \n",
    "    # Extract Chroma features\n",
    "    chroma = librosa.feature.chroma_stft(y=y, sr=sr)\n",
    "    chroma_mean = np.mean(chroma.T, axis=0)\n",
    "    \n",
    "    # Extract Mel-spectrogram features\n",
    "    mel = librosa.feature.melspectrogram(y=y, sr=sr)\n",
    "    mel_mean = np.mean(mel.T, axis=0)\n",
    "\n",
    "    # Concatenate all features\n",
    "    features = np.concatenate((mfcc_mean, chroma_mean, mel_mean))\n",
    "\n",
    "    return features"
   ]
  },
  {
   "cell_type": "code",
   "execution_count": 36,
   "id": "cc5337c2-89c1-4123-ae07-698615b159c6",
   "metadata": {},
   "outputs": [],
   "source": [
    "# List of all possible sentiments\n",
    "sentiments_list = ['angry', 'boredom', 'disgust', 'fear', 'happy', 'sad', 'neutral']"
   ]
  },
  {
   "cell_type": "code",
   "execution_count": 37,
   "id": "d352217a-07e3-428a-8d59-198ad7763de6",
   "metadata": {},
   "outputs": [],
   "source": [
    "features = []\n",
    "audio_files = []\n",
    "valid_files = []  # Define valid_files\n",
    "sentiments = []\n",
    "main_dir = r'C:\\noSilene'\n",
    "cnt = 0\n",
    "for root, dirs, files in os.walk(main_dir):\n",
    "    for file in files:\n",
    "        if file.endswith(('.wav', '.mp3', '.flac')):\n",
    "            file_path = os.path.join(root, file)\n",
    "            audio, sr = librosa.load(file_path)\n",
    "            sentiment = file_path.split('_')[-1].replace('.wav', '')\n",
    "            sentiments.append(sentiment)\n",
    "            audio_files.append(file_path)\n",
    "            feature = extract_features(file_path)\n",
    "            if feature is not None:\n",
    "                features.append(feature)\n",
    "                valid_files.append(file_path)\n",
    "            cnt+=1\n",
    "features = np.array(features)\n",
    "encoder = OneHotEncoder(sparse_output=False)\n",
    "encoded_data = encoder.fit_transform(np.array(sentiments).reshape(-1, 1))"
   ]
  },
  {
   "cell_type": "code",
   "execution_count": null,
   "id": "db60f9ce-ed8f-4f8a-8022-3af16d689f0c",
   "metadata": {},
   "outputs": [],
   "source": [
    "y_numeric = np.argmax(encoded_data, axis=1)\n",
    "\n",
    "# חלוקת הנתונים לנתוני אימון ובדיקה\n",
    "X_train, X_test, y_train, y_test = train_test_split(features, y_numeric, test_size=0.2, random_state=42)\n",
    "# print(\"X\")\n",
    "# print(X_train, X_test)\n",
    "# print(\"Y\")\n",
    "# print(y_train, y_test)\n",
    "# יצירת המודל\n",
    "model = RandomForestClassifier(n_estimators=100, random_state=42)\n",
    "\n",
    "# אימון המודל\n",
    "model.fit(X_train, y_train)\n",
    "\n",
    "# חיזוי על נתוני הבדיקה\n",
    "y_pred = model.predict(X_test)\n",
    "\n",
    "# חישוב Confusion Matrix ודיוק\n",
    "conf_matrix = confusion_matrix(y_test, y_pred)\n",
    "accuracy = accuracy_score(y_test, y_pred)\n",
    "\n",
    "# חישוב MSE ו-R Squared\n",
    "mse = mean_squared_error(y_test, y_pred)\n",
    "r2 = r2_score(y_test, y_pred)\n",
    "\n",
    "print(\"Confusion Matrix:\")\n",
    "print(conf_matrix)\n",
    "print(f\"Accuracy: {accuracy}\")\n",
    "print(f\"MSE: {mse}\")\n",
    "print(f\"R Squared: {r2}\")"
   ]
  },
  {
   "cell_type": "code",
   "execution_count": null,
   "id": "c642a766-f918-414d-b16a-07acffd6c496",
   "metadata": {},
   "outputs": [],
   "source": [
    "from collections import Counter\n",
    "# הכנת הנתונים החדשים\n",
    "recordings_path = r'C:\\09'\n",
    "recordings_features = []\n",
    "recordings_filenames = []\n",
    "for root, dirs, files in os.walk(recordings_path):\n",
    "    for file in files:\n",
    "        if file in cluster_0_files and file.endswith(('.wav', '.mp3', '.flac')):\n",
    "            full_path = os.path.join(root, file)\n",
    "            feature = extract_features(full_path)\n",
    "            if feature is not None:\n",
    "                recordings_features.append(feature)\n",
    "                recordings_filenames.append(full_path)\n",
    "\n",
    "# חיזוי על הנתונים החדשים\n",
    "new_predictions = model.predict(recordings_features)\n",
    "\n",
    "# שחזור המחלקות המפורשות\n",
    "predicted_labels = encoder.inverse_transform(np.eye(len(model.classes_))[new_predictions])\n",
    "label_counts = Counter(label[0] for label in predicted_labels)\n",
    "\n",
    "# הדפסת התוצאות\n",
    "print(\"Predicted labels for new recordings:\")\n",
    "for filename, label in zip(recordings_filenames, predicted_labels):\n",
    "    print(f\"File: {filename}, Predicted Class: {label[0]}\")\n",
    "    display(ipd.Audio(filename))\n",
    "    \n",
    "print(\"Label distribution:\")\n",
    "for label, count in label_counts.items():\n",
    "    print(f\"Label: {label}, Count: {count}\")"
   ]
  },
  {
   "cell_type": "code",
   "execution_count": null,
   "id": "ce591e86",
   "metadata": {},
   "outputs": [],
   "source": []
  },
  {
   "cell_type": "code",
   "execution_count": null,
   "id": "ab96d11b-f7a2-4e31-829e-f1cefad67fe8",
   "metadata": {},
   "outputs": [],
   "source": []
  }
 ],
 "metadata": {
  "kernelspec": {
   "display_name": ".venv",
   "language": "python",
   "name": "python3"
  },
  "language_info": {
   "codemirror_mode": {
    "name": "ipython",
    "version": 3
   },
   "file_extension": ".py",
   "mimetype": "text/x-python",
   "name": "python",
   "nbconvert_exporter": "python",
   "pygments_lexer": "ipython3",
   "version": "3.12.4"
  }
 },
 "nbformat": 4,
 "nbformat_minor": 5
}
